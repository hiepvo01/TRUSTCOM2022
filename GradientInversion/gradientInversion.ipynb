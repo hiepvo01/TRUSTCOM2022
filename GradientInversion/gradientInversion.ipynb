{
 "cells": [
  {
   "cell_type": "code",
   "execution_count": null,
   "metadata": {},
   "outputs": [],
   "source": [
    "import cv2\n",
    "import copy\n",
    "import torch\n",
    "import torch.nn as nn\n",
    "import torchvision\n",
    "import torchvision.transforms as transforms\n",
    "from matplotlib import pyplot as plt\n",
    "from torchvision.utils import save_image\n",
    "from tqdm.notebook import tqdm\n",
    "\n",
    "from aijack.attack import GradientInversion_Attack\n",
    "from aijack.utils import NumpyDataset\n"
   ]
  },
  {
   "cell_type": "code",
   "execution_count": null,
   "metadata": {},
   "outputs": [],
   "source": [
    "torch.cuda.is_available()\n",
    "device = torch.device(\"cuda:0\" if torch.cuda.is_available() else \"cpu\")\n",
    "print(device)"
   ]
  },
  {
   "cell_type": "code",
   "execution_count": null,
   "metadata": {},
   "outputs": [],
   "source": [
    "class LeNet(nn.Module):\n",
    "    def __init__(self, channel=3, hideen=588, num_classes=10):\n",
    "        super(LeNet, self).__init__()\n",
    "        act = nn.Sigmoid\n",
    "        self.body = nn.Sequential(\n",
    "            nn.Conv2d(channel, 12, kernel_size=5, padding=5 // 2, stride=2),\n",
    "            nn.BatchNorm2d(12),\n",
    "            act(),\n",
    "            nn.Conv2d(12, 12, kernel_size=5, padding=5 // 2, stride=2),\n",
    "            nn.BatchNorm2d(12),\n",
    "            act(),\n",
    "            nn.Conv2d(12, 12, kernel_size=5, padding=5 // 2, stride=1),\n",
    "            nn.BatchNorm2d(12),\n",
    "            act(),\n",
    "        )\n",
    "        self.fc = nn.Sequential(\n",
    "            nn.Linear(hideen, num_classes)\n",
    "        )\n",
    "\n",
    "    def forward(self, x):\n",
    "        out = self.body(x)\n",
    "        out = out.view(out.size(0), -1)\n",
    "        out = self.fc(out)\n",
    "        return out"
   ]
  },
  {
   "cell_type": "code",
   "execution_count": null,
   "metadata": {},
   "outputs": [],
   "source": [
    "classes = ('plane', 'car', 'bird', 'cat',\n",
    "           'deer', 'dog', 'frog', 'horse', 'ship', 'truck')"
   ]
  },
  {
   "cell_type": "code",
   "execution_count": null,
   "metadata": {},
   "outputs": [],
   "source": [
    "import matplotlib.pyplot as plt\n",
    "import numpy as np\n",
    "\n",
    "# functions to show an image\n",
    "def imshow(img):\n",
    "    img = img / 2 + 0.5     # unnormalize\n",
    "    npimg = img.numpy()\n",
    "    plt.imshow(np.transpose(npimg, (1, 2, 0)))\n",
    "    plt.show()"
   ]
  },
  {
   "cell_type": "code",
   "execution_count": null,
   "metadata": {},
   "outputs": [],
   "source": [
    "images = torch.load('generated_images1.pth')\n",
    "labels = torch.load('generated_labels1.pth')\n",
    "# print(labels[8][1])\n",
    "\n",
    "for i in range(4):\n",
    "    fig = plt.figure(figsize=(17,17))\n",
    "    for bid in range(25):\n",
    "        ax1 = fig.add_subplot(1, 25, bid+1)\n",
    "        img1= images[1][bid+25*i]\n",
    "        ax1.imshow(torchvision.utils.make_grid(img1))\n",
    "        ax1.set_title(labels[1][bid+25*i])\n",
    "        ax1.axis(\"off\")\n",
    "    "
   ]
  },
  {
   "cell_type": "code",
   "execution_count": 1,
   "metadata": {},
   "outputs": [
    {
     "name": "stdout",
     "output_type": "stream",
     "text": [
      "Client 0 | batch 0 | total imgs 0\n"
     ]
    },
    {
     "data": {
      "image/png": "[encoded data removed]",
      "text/plain": [
       "<Figure size 432x288 with 3 Axes>"
      ]
     },
     "metadata": {
      "needs_background": "light"
     },
     "output_type": "display_data"
    },
    {
     "name": "stdout",
     "output_type": "stream",
     "text": [
      "Client 0 | batch 1 | total imgs 3\n"
     ]
    },
    {
     "ename": "RuntimeError",
     "evalue": "CUDA out of memory. Tried to allocate 2.00 MiB (GPU 0; 4.00 GiB total capacity; 3.45 GiB already allocated; 0 bytes free; 3.49 GiB reserved in total by PyTorch) If reserved memory is >> allocated memory try setting max_split_size_mb to avoid fragmentation.  See documentation for Memory Management and PYTORCH_CUDA_ALLOC_CONF",
     "output_type": "error",
     "traceback": [
      "\u001b[1;31m---------------------------------------------------------------------------\u001b[0m",
      "\u001b[1;31mRuntimeError\u001b[0m                              Traceback (most recent call last)",
      "\u001b[1;32md:\\Projects\\TRUSTCOM2022\\GradientInversion\\gradientInversion.ipynb Cell 7'\u001b[0m in \u001b[0;36m<cell line: 46>\u001b[1;34m()\u001b[0m\n\u001b[0;32m     <a href='vscode-notebook-cell:/d%3A/Projects/TRUSTCOM2022/GradientInversion/gradientInversion.ipynb#ch0000006?line=64'>65</a>\u001b[0m received_gradients \u001b[39m=\u001b[39m [cg\u001b[39m.\u001b[39mdetach() \u001b[39mfor\u001b[39;00m cg \u001b[39min\u001b[39;00m received_gradients]\n\u001b[0;32m     <a href='vscode-notebook-cell:/d%3A/Projects/TRUSTCOM2022/GradientInversion/gradientInversion.ipynb#ch0000006?line=66'>67</a>\u001b[0m gradinversion \u001b[39m=\u001b[39m GradientInversion_Attack(net, (\u001b[39m1\u001b[39m, \u001b[39m28\u001b[39m, \u001b[39m28\u001b[39m), num_iteration\u001b[39m=\u001b[39m\u001b[39m500\u001b[39m,\n\u001b[0;32m     <a href='vscode-notebook-cell:/d%3A/Projects/TRUSTCOM2022/GradientInversion/gradientInversion.ipynb#ch0000006?line=67'>68</a>\u001b[0m                                     lr\u001b[39m=\u001b[39m\u001b[39m1e2\u001b[39m, log_interval\u001b[39m=\u001b[39m\u001b[39m0\u001b[39m,\n\u001b[0;32m     <a href='vscode-notebook-cell:/d%3A/Projects/TRUSTCOM2022/GradientInversion/gradientInversion.ipynb#ch0000006?line=68'>69</a>\u001b[0m                                     optimizer_class\u001b[39m=\u001b[39mtorch\u001b[39m.\u001b[39moptim\u001b[39m.\u001b[39mSGD,\n\u001b[1;32m   (...)\u001b[0m\n\u001b[0;32m     <a href='vscode-notebook-cell:/d%3A/Projects/TRUSTCOM2022/GradientInversion/gradientInversion.ipynb#ch0000006?line=72'>73</a>\u001b[0m                                     tv_reg_coef\u001b[39m=\u001b[39m\u001b[39m0.00\u001b[39m, l2_reg_coef\u001b[39m=\u001b[39m\u001b[39m0.0001\u001b[39m,\n\u001b[0;32m     <a href='vscode-notebook-cell:/d%3A/Projects/TRUSTCOM2022/GradientInversion/gradientInversion.ipynb#ch0000006?line=73'>74</a>\u001b[0m                                     bn_reg_coef\u001b[39m=\u001b[39m\u001b[39m0.001\u001b[39m, gc_reg_coef\u001b[39m=\u001b[39m\u001b[39m0.001\u001b[39m, device\u001b[39m=\u001b[39mdevice)\n\u001b[1;32m---> <a href='vscode-notebook-cell:/d%3A/Projects/TRUSTCOM2022/GradientInversion/gradientInversion.ipynb#ch0000006?line=75'>76</a>\u001b[0m result \u001b[39m=\u001b[39m gradinversion\u001b[39m.\u001b[39;49mgroup_attack(received_gradients, batch_size\u001b[39m=\u001b[39;49mbatch_size)\n\u001b[0;32m     <a href='vscode-notebook-cell:/d%3A/Projects/TRUSTCOM2022/GradientInversion/gradientInversion.ipynb#ch0000006?line=77'>78</a>\u001b[0m fig \u001b[39m=\u001b[39m plt\u001b[39m.\u001b[39mfigure()\n\u001b[0;32m     <a href='vscode-notebook-cell:/d%3A/Projects/TRUSTCOM2022/GradientInversion/gradientInversion.ipynb#ch0000006?line=78'>79</a>\u001b[0m \u001b[39mfor\u001b[39;00m bid \u001b[39min\u001b[39;00m \u001b[39mrange\u001b[39m(batch_size):\n",
      "File \u001b[1;32md:\\Projects\\TRUSTCOM2022\\GradientInversion\\aijack\\attack\\inversion\\gradientinversion.py:529\u001b[0m, in \u001b[0;36mGradientInversion_Attack.group_attack\u001b[1;34m(self, received_gradients, batch_size)\u001b[0m\n\u001b[0;32m    <a href='file:///d%3A/Projects/TRUSTCOM2022/GradientInversion/aijack/attack/inversion/gradientinversion.py?line=521'>522</a>\u001b[0m \u001b[39mself\u001b[39m\u001b[39m.\u001b[39mreset_seed(\u001b[39mself\u001b[39m\u001b[39m.\u001b[39mgroup_seed[worker_id])\n\u001b[0;32m    <a href='file:///d%3A/Projects/TRUSTCOM2022/GradientInversion/aijack/attack/inversion/gradientinversion.py?line=522'>523</a>\u001b[0m closure \u001b[39m=\u001b[39m \u001b[39mself\u001b[39m\u001b[39m.\u001b[39m_setup_closure(\n\u001b[0;32m    <a href='file:///d%3A/Projects/TRUSTCOM2022/GradientInversion/aijack/attack/inversion/gradientinversion.py?line=523'>524</a>\u001b[0m     group_optimizer[worker_id],\n\u001b[0;32m    <a href='file:///d%3A/Projects/TRUSTCOM2022/GradientInversion/aijack/attack/inversion/gradientinversion.py?line=524'>525</a>\u001b[0m     group_fake_x[worker_id],\n\u001b[0;32m    <a href='file:///d%3A/Projects/TRUSTCOM2022/GradientInversion/aijack/attack/inversion/gradientinversion.py?line=525'>526</a>\u001b[0m     group_fake_label[worker_id],\n\u001b[0;32m    <a href='file:///d%3A/Projects/TRUSTCOM2022/GradientInversion/aijack/attack/inversion/gradientinversion.py?line=526'>527</a>\u001b[0m     received_gradients,\n\u001b[0;32m    <a href='file:///d%3A/Projects/TRUSTCOM2022/GradientInversion/aijack/attack/inversion/gradientinversion.py?line=527'>528</a>\u001b[0m )\n\u001b[1;32m--> <a href='file:///d%3A/Projects/TRUSTCOM2022/GradientInversion/aijack/attack/inversion/gradientinversion.py?line=528'>529</a>\u001b[0m distance \u001b[39m=\u001b[39m group_optimizer[worker_id]\u001b[39m.\u001b[39;49mstep(closure)\n\u001b[0;32m    <a href='file:///d%3A/Projects/TRUSTCOM2022/GradientInversion/aijack/attack/inversion/gradientinversion.py?line=530'>531</a>\u001b[0m \u001b[39mif\u001b[39;00m \u001b[39mself\u001b[39m\u001b[39m.\u001b[39msave_loss:\n\u001b[0;32m    <a href='file:///d%3A/Projects/TRUSTCOM2022/GradientInversion/aijack/attack/inversion/gradientinversion.py?line=531'>532</a>\u001b[0m     \u001b[39mself\u001b[39m\u001b[39m.\u001b[39mlog_loss[worker_id]\u001b[39m.\u001b[39mappend(distance)\n",
      "File \u001b[1;32md:\\Projects\\TRUSTCOM2022\\.venv\\lib\\site-packages\\torch\\optim\\optimizer.py:88\u001b[0m, in \u001b[0;36mOptimizer._hook_for_profile.<locals>.profile_hook_step.<locals>.wrapper\u001b[1;34m(*args, **kwargs)\u001b[0m\n\u001b[0;32m     <a href='file:///d%3A/Projects/TRUSTCOM2022/.venv/lib/site-packages/torch/optim/optimizer.py?line=85'>86</a>\u001b[0m profile_name \u001b[39m=\u001b[39m \u001b[39m\"\u001b[39m\u001b[39mOptimizer.step#\u001b[39m\u001b[39m{}\u001b[39;00m\u001b[39m.step\u001b[39m\u001b[39m\"\u001b[39m\u001b[39m.\u001b[39mformat(obj\u001b[39m.\u001b[39m\u001b[39m__class__\u001b[39m\u001b[39m.\u001b[39m\u001b[39m__name__\u001b[39m)\n\u001b[0;32m     <a href='file:///d%3A/Projects/TRUSTCOM2022/.venv/lib/site-packages/torch/optim/optimizer.py?line=86'>87</a>\u001b[0m \u001b[39mwith\u001b[39;00m torch\u001b[39m.\u001b[39mautograd\u001b[39m.\u001b[39mprofiler\u001b[39m.\u001b[39mrecord_function(profile_name):\n\u001b[1;32m---> <a href='file:///d%3A/Projects/TRUSTCOM2022/.venv/lib/site-packages/torch/optim/optimizer.py?line=87'>88</a>\u001b[0m     \u001b[39mreturn\u001b[39;00m func(\u001b[39m*\u001b[39;49margs, \u001b[39m*\u001b[39;49m\u001b[39m*\u001b[39;49mkwargs)\n",
      "File \u001b[1;32md:\\Projects\\TRUSTCOM2022\\.venv\\lib\\site-packages\\torch\\autograd\\grad_mode.py:27\u001b[0m, in \u001b[0;36m_DecoratorContextManager.__call__.<locals>.decorate_context\u001b[1;34m(*args, **kwargs)\u001b[0m\n\u001b[0;32m     <a href='file:///d%3A/Projects/TRUSTCOM2022/.venv/lib/site-packages/torch/autograd/grad_mode.py?line=23'>24</a>\u001b[0m \u001b[39m@functools\u001b[39m\u001b[39m.\u001b[39mwraps(func)\n\u001b[0;32m     <a href='file:///d%3A/Projects/TRUSTCOM2022/.venv/lib/site-packages/torch/autograd/grad_mode.py?line=24'>25</a>\u001b[0m \u001b[39mdef\u001b[39;00m \u001b[39mdecorate_context\u001b[39m(\u001b[39m*\u001b[39margs, \u001b[39m*\u001b[39m\u001b[39m*\u001b[39mkwargs):\n\u001b[0;32m     <a href='file:///d%3A/Projects/TRUSTCOM2022/.venv/lib/site-packages/torch/autograd/grad_mode.py?line=25'>26</a>\u001b[0m     \u001b[39mwith\u001b[39;00m \u001b[39mself\u001b[39m\u001b[39m.\u001b[39mclone():\n\u001b[1;32m---> <a href='file:///d%3A/Projects/TRUSTCOM2022/.venv/lib/site-packages/torch/autograd/grad_mode.py?line=26'>27</a>\u001b[0m         \u001b[39mreturn\u001b[39;00m func(\u001b[39m*\u001b[39;49margs, \u001b[39m*\u001b[39;49m\u001b[39m*\u001b[39;49mkwargs)\n",
      "File \u001b[1;32md:\\Projects\\TRUSTCOM2022\\.venv\\lib\\site-packages\\torch\\optim\\sgd.py:120\u001b[0m, in \u001b[0;36mSGD.step\u001b[1;34m(self, closure)\u001b[0m\n\u001b[0;32m    <a href='file:///d%3A/Projects/TRUSTCOM2022/.venv/lib/site-packages/torch/optim/sgd.py?line=117'>118</a>\u001b[0m \u001b[39mif\u001b[39;00m closure \u001b[39mis\u001b[39;00m \u001b[39mnot\u001b[39;00m \u001b[39mNone\u001b[39;00m:\n\u001b[0;32m    <a href='file:///d%3A/Projects/TRUSTCOM2022/.venv/lib/site-packages/torch/optim/sgd.py?line=118'>119</a>\u001b[0m     \u001b[39mwith\u001b[39;00m torch\u001b[39m.\u001b[39menable_grad():\n\u001b[1;32m--> <a href='file:///d%3A/Projects/TRUSTCOM2022/.venv/lib/site-packages/torch/optim/sgd.py?line=119'>120</a>\u001b[0m         loss \u001b[39m=\u001b[39m closure()\n\u001b[0;32m    <a href='file:///d%3A/Projects/TRUSTCOM2022/.venv/lib/site-packages/torch/optim/sgd.py?line=121'>122</a>\u001b[0m \u001b[39mfor\u001b[39;00m group \u001b[39min\u001b[39;00m \u001b[39mself\u001b[39m\u001b[39m.\u001b[39mparam_groups:\n\u001b[0;32m    <a href='file:///d%3A/Projects/TRUSTCOM2022/.venv/lib/site-packages/torch/optim/sgd.py?line=122'>123</a>\u001b[0m     params_with_grad \u001b[39m=\u001b[39m []\n",
      "File \u001b[1;32md:\\Projects\\TRUSTCOM2022\\GradientInversion\\aijack\\attack\\inversion\\gradientinversion.py:372\u001b[0m, in \u001b[0;36mGradientInversion_Attack._setup_closure.<locals>.closure\u001b[1;34m()\u001b[0m\n\u001b[0;32m    <a href='file:///d%3A/Projects/TRUSTCOM2022/GradientInversion/aijack/attack/inversion/gradientinversion.py?line=360'>361</a>\u001b[0m distance \u001b[39m=\u001b[39m \u001b[39mself\u001b[39m\u001b[39m.\u001b[39mdistancefunc(\n\u001b[0;32m    <a href='file:///d%3A/Projects/TRUSTCOM2022/GradientInversion/aijack/attack/inversion/gradientinversion.py?line=361'>362</a>\u001b[0m     fake_gradients, received_gradients, \u001b[39mself\u001b[39m\u001b[39m.\u001b[39mgradient_ignore_pos\n\u001b[0;32m    <a href='file:///d%3A/Projects/TRUSTCOM2022/GradientInversion/aijack/attack/inversion/gradientinversion.py?line=362'>363</a>\u001b[0m )\n\u001b[0;32m    <a href='file:///d%3A/Projects/TRUSTCOM2022/GradientInversion/aijack/attack/inversion/gradientinversion.py?line=363'>364</a>\u001b[0m distance \u001b[39m+\u001b[39m\u001b[39m=\u001b[39m \u001b[39mself\u001b[39m\u001b[39m.\u001b[39m_culc_regularization_term(\n\u001b[0;32m    <a href='file:///d%3A/Projects/TRUSTCOM2022/GradientInversion/aijack/attack/inversion/gradientinversion.py?line=364'>365</a>\u001b[0m     fake_x,\n\u001b[0;32m    <a href='file:///d%3A/Projects/TRUSTCOM2022/GradientInversion/aijack/attack/inversion/gradientinversion.py?line=365'>366</a>\u001b[0m     fake_pred,\n\u001b[1;32m   (...)\u001b[0m\n\u001b[0;32m    <a href='file:///d%3A/Projects/TRUSTCOM2022/GradientInversion/aijack/attack/inversion/gradientinversion.py?line=368'>369</a>\u001b[0m     received_gradients,\n\u001b[0;32m    <a href='file:///d%3A/Projects/TRUSTCOM2022/GradientInversion/aijack/attack/inversion/gradientinversion.py?line=369'>370</a>\u001b[0m )\n\u001b[1;32m--> <a href='file:///d%3A/Projects/TRUSTCOM2022/GradientInversion/aijack/attack/inversion/gradientinversion.py?line=371'>372</a>\u001b[0m distance\u001b[39m.\u001b[39;49mbackward(retain_graph\u001b[39m=\u001b[39;49m\u001b[39mTrue\u001b[39;49;00m)\n\u001b[0;32m    <a href='file:///d%3A/Projects/TRUSTCOM2022/GradientInversion/aijack/attack/inversion/gradientinversion.py?line=372'>373</a>\u001b[0m \u001b[39mreturn\u001b[39;00m distance\n",
      "File \u001b[1;32md:\\Projects\\TRUSTCOM2022\\.venv\\lib\\site-packages\\torch\\_tensor.py:363\u001b[0m, in \u001b[0;36mTensor.backward\u001b[1;34m(self, gradient, retain_graph, create_graph, inputs)\u001b[0m\n\u001b[0;32m    <a href='file:///d%3A/Projects/TRUSTCOM2022/.venv/lib/site-packages/torch/_tensor.py?line=353'>354</a>\u001b[0m \u001b[39mif\u001b[39;00m has_torch_function_unary(\u001b[39mself\u001b[39m):\n\u001b[0;32m    <a href='file:///d%3A/Projects/TRUSTCOM2022/.venv/lib/site-packages/torch/_tensor.py?line=354'>355</a>\u001b[0m     \u001b[39mreturn\u001b[39;00m handle_torch_function(\n\u001b[0;32m    <a href='file:///d%3A/Projects/TRUSTCOM2022/.venv/lib/site-packages/torch/_tensor.py?line=355'>356</a>\u001b[0m         Tensor\u001b[39m.\u001b[39mbackward,\n\u001b[0;32m    <a href='file:///d%3A/Projects/TRUSTCOM2022/.venv/lib/site-packages/torch/_tensor.py?line=356'>357</a>\u001b[0m         (\u001b[39mself\u001b[39m,),\n\u001b[1;32m   (...)\u001b[0m\n\u001b[0;32m    <a href='file:///d%3A/Projects/TRUSTCOM2022/.venv/lib/site-packages/torch/_tensor.py?line=360'>361</a>\u001b[0m         create_graph\u001b[39m=\u001b[39mcreate_graph,\n\u001b[0;32m    <a href='file:///d%3A/Projects/TRUSTCOM2022/.venv/lib/site-packages/torch/_tensor.py?line=361'>362</a>\u001b[0m         inputs\u001b[39m=\u001b[39minputs)\n\u001b[1;32m--> <a href='file:///d%3A/Projects/TRUSTCOM2022/.venv/lib/site-packages/torch/_tensor.py?line=362'>363</a>\u001b[0m torch\u001b[39m.\u001b[39;49mautograd\u001b[39m.\u001b[39;49mbackward(\u001b[39mself\u001b[39;49m, gradient, retain_graph, create_graph, inputs\u001b[39m=\u001b[39;49minputs)\n",
      "File \u001b[1;32md:\\Projects\\TRUSTCOM2022\\.venv\\lib\\site-packages\\torch\\autograd\\__init__.py:173\u001b[0m, in \u001b[0;36mbackward\u001b[1;34m(tensors, grad_tensors, retain_graph, create_graph, grad_variables, inputs)\u001b[0m\n\u001b[0;32m    <a href='file:///d%3A/Projects/TRUSTCOM2022/.venv/lib/site-packages/torch/autograd/__init__.py?line=167'>168</a>\u001b[0m     retain_graph \u001b[39m=\u001b[39m create_graph\n\u001b[0;32m    <a href='file:///d%3A/Projects/TRUSTCOM2022/.venv/lib/site-packages/torch/autograd/__init__.py?line=169'>170</a>\u001b[0m \u001b[39m# The reason we repeat same the comment below is that\u001b[39;00m\n\u001b[0;32m    <a href='file:///d%3A/Projects/TRUSTCOM2022/.venv/lib/site-packages/torch/autograd/__init__.py?line=170'>171</a>\u001b[0m \u001b[39m# some Python versions print out the first line of a multi-line function\u001b[39;00m\n\u001b[0;32m    <a href='file:///d%3A/Projects/TRUSTCOM2022/.venv/lib/site-packages/torch/autograd/__init__.py?line=171'>172</a>\u001b[0m \u001b[39m# calls in the traceback and some print out the last line\u001b[39;00m\n\u001b[1;32m--> <a href='file:///d%3A/Projects/TRUSTCOM2022/.venv/lib/site-packages/torch/autograd/__init__.py?line=172'>173</a>\u001b[0m Variable\u001b[39m.\u001b[39;49m_execution_engine\u001b[39m.\u001b[39;49mrun_backward(  \u001b[39m# Calls into the C++ engine to run the backward pass\u001b[39;49;00m\n\u001b[0;32m    <a href='file:///d%3A/Projects/TRUSTCOM2022/.venv/lib/site-packages/torch/autograd/__init__.py?line=173'>174</a>\u001b[0m     tensors, grad_tensors_, retain_graph, create_graph, inputs,\n\u001b[0;32m    <a href='file:///d%3A/Projects/TRUSTCOM2022/.venv/lib/site-packages/torch/autograd/__init__.py?line=174'>175</a>\u001b[0m     allow_unreachable\u001b[39m=\u001b[39;49m\u001b[39mTrue\u001b[39;49;00m, accumulate_grad\u001b[39m=\u001b[39;49m\u001b[39mTrue\u001b[39;49;00m)\n",
      "\u001b[1;31mRuntimeError\u001b[0m: CUDA out of memory. Tried to allocate 2.00 MiB (GPU 0; 4.00 GiB total capacity; 3.45 GiB already allocated; 0 bytes free; 3.49 GiB reserved in total by PyTorch) If reserved memory is >> allocated memory try setting max_split_size_mb to avoid fragmentation.  See documentation for Memory Management and PYTORCH_CUDA_ALLOC_CONF"
     ]
    }
   ],
   "source": [
    "import torch\n",
    "import torch.nn as nn\n",
    "import torchvision\n",
    "import torchvision.transforms as transforms\n",
    "from torchvision.utils import save_image\n",
    "import matplotlib.pyplot as plt\n",
    "\n",
    "from aijack.attack import GradientInversion_Attack\n",
    "\n",
    "class LeNet(nn.Module):\n",
    "    def __init__(self, channel=1, hideen=588, num_classes=10):\n",
    "        super(LeNet, self).__init__()\n",
    "        self.body = nn.Sequential(\n",
    "            nn.Conv2d(channel, 32, kernel_size=(3,3), stride=(2,2), padding=1),\n",
    "            nn.LeakyReLU(negative_slope=0.2),\n",
    "            nn.Dropout(0.5),\n",
    "            nn.Conv2d(32, 64, kernel_size=(3,3), padding=1),\n",
    "            nn.BatchNorm2d(64),\n",
    "            nn.LeakyReLU(negative_slope=0.2),\n",
    "            nn.Dropout(0.5),\n",
    "            nn.Conv2d(64, 128, kernel_size=(3,3), stride=(2,2), padding=1),\n",
    "            nn.BatchNorm2d(128),\n",
    "            nn.LeakyReLU(negative_slope=0.2),\n",
    "            nn.Dropout(0.5),\n",
    "            nn.Flatten()\n",
    "        )\n",
    "        self.fc = nn.Sequential(\n",
    "            nn.Linear(6272, num_classes)\n",
    "            # nn.Linear(hideen, num_classes)\n",
    "        )\n",
    "\n",
    "    def forward(self, x):\n",
    "        out = self.body(x)\n",
    "        out = out.view(out.size(0), -1)\n",
    "        out = self.fc(out)\n",
    "        return out\n",
    "\n",
    "batch_size = 3\n",
    "device = torch.device(\"cuda:0\" if torch.cuda.is_available() else \"cpu\")\n",
    "\n",
    "train_loader = [torch.utils.data.DataLoader(x, batch_size=batch_size, shuffle=True) for x in torch.load('../data/MNIST.pth')]\n",
    "\n",
    "generated_images = []\n",
    "generated_labels = []\n",
    "\n",
    "for i in range(2):\n",
    "    client_img = []\n",
    "    client_label = []\n",
    "    dataiter = iter(train_loader[i])\n",
    "\n",
    "    # for batch_idx in range(len(train_loader[i])):\n",
    "    for batch_idx in range(3):\n",
    "        print(\"Client \"+ str(i) +\" | batch \"+str(batch_idx) + \" | total imgs \" + str(len(client_img)))\n",
    "        images, labels = dataiter.next()\n",
    "        images = images.cuda()\n",
    "        labels = labels.cuda()\n",
    "\n",
    "        criterion = nn.CrossEntropyLoss()\n",
    "        # net = LeNet(channel=3, hideen=768, num_classes=10)\n",
    "        net = LeNet(channel=1, num_classes=10)\n",
    "        net.to(device)\n",
    "        pred = net(images[:batch_size])\n",
    "        loss = criterion(pred, labels[:batch_size])\n",
    "        received_gradients = torch.autograd.grad(loss, net.parameters())\n",
    "        received_gradients = [cg.detach() for cg in received_gradients]\n",
    "\n",
    "        gradinversion = GradientInversion_Attack(net, (1, 28, 28), num_iteration=500,\n",
    "                                            lr=1e2, log_interval=0,\n",
    "                                            optimizer_class=torch.optim.SGD,\n",
    "                                            distancename=\"l2\", optimize_label=False,\n",
    "                                            bn_reg_layers=[net.body[4], net.body[8]],\n",
    "                                            group_num = 3,\n",
    "                                            tv_reg_coef=0.00, l2_reg_coef=0.0001,\n",
    "                                            bn_reg_coef=0.001, gc_reg_coef=0.001, device=device)\n",
    "\n",
    "        result = gradinversion.group_attack(received_gradients, batch_size=batch_size)\n",
    "        \n",
    "        fig = plt.figure()\n",
    "        for bid in range(batch_size):\n",
    "            test_img = torch.from_numpy(((sum(result[0]) / len(result[0])).cpu().detach().numpy()[bid]))\n",
    "            img1 = test_img.swapaxes(0,1)\n",
    "            img1 = img1.swapaxes(1,2)\n",
    "            ax1 = fig.add_subplot(2, batch_size, bid+1)\n",
    "            test_img = torch.from_numpy(((sum(result[0]) / len(result[0])).cpu().detach().numpy()[bid]))\n",
    "            img1 = test_img.swapaxes(0,1)\n",
    "            img1 = img1.swapaxes(1,2)\n",
    "            ax1.imshow(torchvision.utils.make_grid(img1))\n",
    "            ax1.set_title(result[1][0][bid].item())\n",
    "            ax1.axis(\"off\")\n",
    "            \n",
    "            client_img.append(img1)\n",
    "            label = result[1][0][bid].item()\n",
    "            client_label.append(label)\n",
    "        plt.show()\n",
    "    generated_images.append(client_img)\n",
    "    generated_labels.append(client_label)\n",
    "torch.save(generated_images, 'generated_images2.pth')\n",
    "torch.save(generated_labels, 'generated_labels2.pth')"
   ]
  },
  {
   "cell_type": "code",
   "execution_count": null,
   "metadata": {},
   "outputs": [],
   "source": [
    "def draw_out(attacker, received_gradients, batch_size=0):\n",
    "    num_seeds=3\n",
    "    fig = plt.figure()\n",
    "    fig.set_figheight(7)\n",
    "    fig.set_figwidth(7)\n",
    "    for s in tqdm(range(num_seeds)):\n",
    "        attacker.reset_seed(s)\n",
    "        if batch_size > 0:\n",
    "            result = attacker.attack(received_gradients, batch_size=batch_size)\n",
    "        else:\n",
    "            result = attacker.attack(received_gradients)\n",
    "        ax1 = fig.add_subplot(3, num_seeds, s+1)\n",
    "        test_img = torch.from_numpy((result[0].cpu().detach().numpy()[0])) / 2 + 0.5\n",
    "        img1 = test_img.swapaxes(0,1)\n",
    "        img1 = img1.swapaxes(1,2)\n",
    "        ax1.imshow(torchvision.utils.make_grid(img1))\n",
    "        ax1.set_title(torch.argmax(result[1]).item())\n",
    "        ax1.axis(\"off\")\n",
    "        ax2 = fig.add_subplot(3, num_seeds, num_seeds+s+1)\n",
    "        ax2.imshow(result[0].cpu().detach().numpy()[0][0], cmap=\"gray\")\n",
    "        ax2.axis(\"off\")\n",
    "        ax3 = fig.add_subplot(3, num_seeds, num_seeds + num_seeds+s+1)\n",
    "        ax3.imshow(cv2.medianBlur(result[0].cpu().detach().numpy()[0][0], 5), cmap=\"gray\")\n",
    "        ax3.axis(\"off\")\n",
    "    plt.suptitle(\"Result\")\n",
    "    plt.tight_layout()\n",
    "    plt.show()\n"
   ]
  },
  {
   "cell_type": "markdown",
   "metadata": {},
   "source": [
    "## DLG Attack\n",
    "https://dlg.mit.edu/assets/NeurIPS19_deep_leakage_from_gradients.pdf\n",
    "\n",
    "- distance metric = L2 norm\n",
    "- optimize both of images and labels"
   ]
  },
  {
   "cell_type": "code",
   "execution_count": null,
   "metadata": {},
   "outputs": [],
   "source": [
    "imshow(torchvision.utils.make_grid(images[0].cpu()))\n",
    "print(\"Target\")\n",
    "criterion = nn.CrossEntropyLoss()\n",
    "net = LeNet(channel=3, hideen=768, num_classes=10)\n",
    "net.to(device)\n",
    "pred = net(images[:1])\n",
    "loss = criterion(pred, labels[:1])\n",
    "received_gradients = torch.autograd.grad(loss, net.parameters())\n",
    "received_gradients = [cg.detach() for cg in received_gradients]\n",
    "\n",
    "dlg_attacker = GradientInversion_Attack(net, (3, 32, 32), lr=1.0, log_interval=0,\n",
    "                                    num_iteration=1000,\n",
    "                                    distancename=\"l2\", device=device)\n",
    "\n",
    "draw_out(dlg_attacker, received_gradients)"
   ]
  },
  {
   "cell_type": "code",
   "execution_count": null,
   "metadata": {},
   "outputs": [],
   "source": [
    "draw_out(dlg_attacker, received_gradients)"
   ]
  },
  {
   "cell_type": "markdown",
   "metadata": {},
   "source": [
    "## GS Attack\n",
    "https://arxiv.org/abs/2003.14053\n",
    "- distance metric = cosine similarity\n",
    "- optimize both of images and labels\n",
    "- total-variance regularization"
   ]
  },
  {
   "cell_type": "code",
   "execution_count": null,
   "metadata": {},
   "outputs": [],
   "source": [
    "# imshow(torchvision.utils.make_grid(images[0].cpu()))\n",
    "\n",
    "# criterion = nn.CrossEntropyLoss()\n",
    "# net = LeNet(channel=3, hideen=768, num_classes=10)\n",
    "# net.to(device)\n",
    "# pred = net(images[:1])\n",
    "# loss = criterion(pred, labels[:1])\n",
    "# received_gradients = torch.autograd.grad(loss, net.parameters())\n",
    "# received_gradients = [cg.detach() for cg in received_gradients]\n",
    "\n",
    "# gs_attacker = GradientInversion_Attack(net, (3, 32, 32), lr=1.0, log_interval=0,\n",
    "#                                     num_iteration=200,\n",
    "#                                     tv_reg_coef=0.01,\n",
    "#                                     distancename=\"cossim\", device=device)\n",
    "\n",
    "# draw_out(gs_attacker, received_gradients)"
   ]
  },
  {
   "cell_type": "markdown",
   "metadata": {},
   "source": [
    "## IDLG Attack\n",
    "https://arxiv.org/abs/2001.02610\n",
    "- distance metric = L2 norm\n",
    "- optimize only an image & estimate a label from the gradients"
   ]
  },
  {
   "cell_type": "code",
   "execution_count": null,
   "metadata": {},
   "outputs": [],
   "source": [
    "imshow(torchvision.utils.make_grid(images[0].cpu()))\n",
    "\n",
    "criterion = nn.CrossEntropyLoss()\n",
    "net = LeNet(channel=3, hideen=768, num_classes=10)\n",
    "net.to(device)\n",
    "pred = net(images[:1])\n",
    "loss = criterion(pred, labels[:1])\n",
    "received_gradients = torch.autograd.grad(loss, net.parameters())\n",
    "received_gradients = [cg.detach() for cg in received_gradients]\n",
    "\n",
    "idlg_attacker = GradientInversion_Attack(net, (3, 32, 32), lr=10e2, log_interval=0,\n",
    "                                    optimizer_class=torch.optim.SGD,\n",
    "                                    distancename=\"l2\", optimize_label=False,\n",
    "                                    num_iteration=10000, device=device)\n",
    "\n",
    "draw_out(idlg_attacker, received_gradients)"
   ]
  },
  {
   "cell_type": "markdown",
   "metadata": {},
   "source": [
    "## CPL Attack\n",
    "https://arxiv.org/abs/2004.10397\n",
    "- distance metric = L2 norm\n",
    "- optimize only images & estimate an label from the gradients\n",
    "- label-matching regularization"
   ]
  },
  {
   "cell_type": "code",
   "execution_count": null,
   "metadata": {},
   "outputs": [],
   "source": [
    "import torch.optim as optim\n",
    "\n",
    "imshow(torchvision.utils.make_grid(images[0].cpu()))\n",
    "\n",
    "criterion = nn.CrossEntropyLoss()\n",
    "net = LeNet(channel=3, hideen=768, num_classes=10)\n",
    "net.to(device)\n",
    "# optimizer = optim.SGD(net.parameters(), lr=0.1)\n",
    "# for epoch in range(10):\n",
    "pred = net(images[:1])\n",
    "loss = criterion(pred, labels[:1])\n",
    "loss.backward(retain_graph=True)\n",
    "received_gradients = torch.autograd.grad(loss, net.parameters())\n",
    "received_gradients = [cg.detach()for cg in received_gradients]\n",
    "\n",
    "cpl_attacker = GradientInversion_Attack(net, (3, 32, 32), lr=10e2, log_interval=0,\n",
    "                                    optimizer_class=torch.optim.SGD,\n",
    "                                    distancename=\"l2\", optimize_label=False,\n",
    "                                    num_iteration=10000,\n",
    "                                    lm_reg_coef=0.01, device=device)\n",
    "\n",
    "draw_out(cpl_attacker, received_gradients)\n",
    "\n",
    "    # optimizer.step()\n"
   ]
  },
  {
   "cell_type": "markdown",
   "metadata": {},
   "source": [
    "## Test Atk"
   ]
  },
  {
   "cell_type": "code",
   "execution_count": null,
   "metadata": {},
   "outputs": [],
   "source": [
    "# import torch.optim as optim\n",
    "\n",
    "# imshow(torchvision.utils.make_grid(images[0:3].cpu()))\n",
    "\n",
    "# criterion = nn.CrossEntropyLoss()\n",
    "# net = LeNet(channel=3, hideen=768, num_classes=10)\n",
    "# net.to(device)\n",
    "# optimizer = optim.SGD(net.parameters(), lr=0.1)\n",
    "# for epoch in range(3):\n",
    "#     pred = net(images[:1])\n",
    "\n",
    "#     loss = criterion(pred, labels[:1])\n",
    "#     loss.backward(retain_graph=True)\n",
    "\n",
    "#     received_gradients = torch.autograd.grad(loss, net.parameters())\n",
    "#     received_gradients = [cg.detach()/(-0.1)  for cg in received_gradients]\n",
    "    \n",
    "#     optimizer.step()\n",
    "    \n",
    "# cpl_attacker = GradientInversion_Attack(net, (3, 32, 32), lr=10e2, log_interval=0,\n",
    "#                                     optimizer_class=torch.optim.SGD,\n",
    "#                                     distancename=\"l2\", optimize_label=False,\n",
    "#                                     num_iteration=10000,\n",
    "#                                     lm_reg_coef=0.01, device=device)\n",
    "\n",
    "# draw_out(cpl_attacker, received_gradients, batch_size=3)\n",
    "    \n",
    "# gradinversion = GradientInversion_Attack(net, (3, 32, 32), num_iteration=1900,\n",
    "#                                         lr=1e2, log_interval=0,\n",
    "#                                         optimizer_class=torch.optim.SGD,\n",
    "#                                         distancename=\"l2\", optimize_label=False,\n",
    "#                                         bn_reg_layers=[net.body[1], net.body[4], net.body[7]],\n",
    "#                                         group_num = 3,\n",
    "#                                         tv_reg_coef=0.00, l2_reg_coef=0.0001,\n",
    "#                                         bn_reg_coef=0.001, gc_reg_coef=0.001, device=device)\n",
    "\n",
    "# result = gradinversion.group_attack(received_gradients, batch_size=batch_size)\n",
    "\n",
    "# fig = plt.figure()\n",
    "# for bid in range(batch_size):\n",
    "#     ax1 = fig.add_subplot(2, batch_size, bid+1)\n",
    "#     test_img = torch.from_numpy(((sum(result[0]) / len(result[0])).cpu().detach().numpy()[bid]))\n",
    "#     img1 = test_img.swapaxes(0,1)\n",
    "#     img1 = img1.swapaxes(1,2)\n",
    "#     ax1.imshow(torchvision.utils.make_grid(img1))\n",
    "#     ax1.set_title(result[1][0][bid].item())\n",
    "#     ax1.axis(\"off\")\n",
    "#     ax2 = fig.add_subplot(2, batch_size, batch_size+bid+1)\n",
    "#     ax2.imshow((sum(result[0]) / len(result[0])).cpu().detach().numpy()[bid][0], cmap=\"gray\")\n",
    "#     ax2.axis(\"off\")"
   ]
  },
  {
   "cell_type": "markdown",
   "metadata": {},
   "source": [
    "## GradInversion\n",
    "https://arxiv.org/abs/2104.07586\n",
    "- distance metric = L2 norm\n",
    "- optimize only images & estimate labels from the gradients\n",
    "- total-variance, l2, bn, and group-consistency regularization"
   ]
  },
  {
   "cell_type": "code",
   "execution_count": null,
   "metadata": {},
   "outputs": [],
   "source": [
    "batch_size = 8\n",
    "\n",
    "train_loader = [torch.utils.data.DataLoader(x, batch_size=batch_size, shuffle=True) for x in torch.load('../data/cifar10.pth')]\n",
    "for i in range(len(train_loader)):\n",
    "    dataiter = iter(train_loader[i])\n",
    "    images, labels = dataiter.next()\n",
    "    images = images.cuda()\n",
    "    labels = labels.cuda()\n",
    "\n",
    "    imshow(torchvision.utils.make_grid(images.cpu()))\n",
    "\n",
    "    criterion = nn.CrossEntropyLoss()\n",
    "    net = LeNet(channel=3, hideen=768, num_classes=10)\n",
    "    net.to(device)\n",
    "    pred = net(images[:batch_size])\n",
    "    loss = criterion(pred, labels[:batch_size])\n",
    "    received_gradients = torch.autograd.grad(loss, net.parameters())\n",
    "    received_gradients = [cg.detach() for cg in received_gradients]\n",
    "\n",
    "    gradinversion = GradientInversion_Attack(net, (3, 32, 32), num_iteration=900,\n",
    "                                        lr=1e2, log_interval=0,\n",
    "                                        optimizer_class=torch.optim.SGD,\n",
    "                                        distancename=\"l2\", optimize_label=False,\n",
    "                                        bn_reg_layers=[net.body[1], net.body[4], net.body[7]],\n",
    "                                        group_num = 3,\n",
    "                                        tv_reg_coef=0.00, l2_reg_coef=0.0001,\n",
    "                                        bn_reg_coef=0.001, gc_reg_coef=0.001, device=device)\n",
    "\n",
    "    result = gradinversion.group_attack(received_gradients, batch_size=batch_size)\n",
    "\n",
    "    fig = plt.figure()\n",
    "    for bid in range(batch_size):\n",
    "        ax1 = fig.add_subplot(2, batch_size, bid+1)\n",
    "        test_img = torch.from_numpy(((sum(result[0]) / len(result[0])).cpu().detach().numpy()[bid]))\n",
    "        img1 = test_img.swapaxes(0,1)\n",
    "        img1 = img1.swapaxes(1,2)\n",
    "        ax1.imshow(torchvision.utils.make_grid(img1))\n",
    "        ax1.set_title(result[1][0][bid].item())\n",
    "        ax1.axis(\"off\")\n",
    "        # ax2 = fig.add_subplot(2, batch_size, batch_size+bid+1)\n",
    "        # ax2.imshow((sum(result[0]) / len(result[0])).cpu().detach().numpy()[bid][0], cmap=\"gray\")\n",
    "        # ax2.axis(\"off\")\n",
    "\n",
    "    plt.suptitle(\"Result of GradInversion\")"
   ]
  },
  {
   "cell_type": "code",
   "execution_count": null,
   "metadata": {},
   "outputs": [],
   "source": []
  }
 ],
 "metadata": {
  "interpreter": {
   "hash": "968934d88acb7fa4003ed11a52074e68ba95c397f9757dc45b04b92654f10ea7"
  },
  "kernelspec": {
   "display_name": "Python 3.8.10 ('.venv': venv)",
   "language": "python",
   "name": "python3"
  },
  "language_info": {
   "codemirror_mode": {
    "name": "ipython",
    "version": 3
   },
   "file_extension": ".py",
   "mimetype": "text/x-python",
   "name": "python",
   "nbconvert_exporter": "python",
   "pygments_lexer": "ipython3",
   "version": "3.8.10"
  },
  "orig_nbformat": 4
 },
 "nbformat": 4,
 "nbformat_minor": 2
}
