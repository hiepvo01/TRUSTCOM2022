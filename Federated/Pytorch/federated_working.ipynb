{
 "cells": [
  {
   "cell_type": "code",
   "execution_count": 1,
   "metadata": {},
   "outputs": [
    {
     "name": "stderr",
     "output_type": "stream",
     "text": [
      "d:\\Projects\\GANs\\.venv\\lib\\site-packages\\tqdm\\auto.py:22: TqdmWarning: IProgress not found. Please update jupyter and ipywidgets. See https://ipywidgets.readthedocs.io/en/stable/user_install.html\n",
      "  from .autonotebook import tqdm as notebook_tqdm\n"
     ]
    }
   ],
   "source": [
    "import os\n",
    "import random\n",
    "from tqdm import tqdm\n",
    "import numpy as np\n",
    "import torch, torchvision\n",
    "import torch.nn as nn\n",
    "import torch.nn.functional as F\n",
    "import torch.optim as optim\n",
    "from torchvision import datasets, transforms\n",
    "from torch.utils.data.dataset import Dataset \n",
    "from aijack.attack import GradientInversion_Attack\n",
    "from matplotlib import pyplot as plt  \n",
    "torch.backends.cudnn.benchmark=True\n",
    "\n",
    "torch.cuda.empty_cache()"
   ]
  },
  {
   "cell_type": "code",
   "execution_count": 2,
   "metadata": {},
   "outputs": [],
   "source": [
    "num_clients = 8\n",
    "num_selected = 6\n",
    "num_rounds = 5\n",
    "epochs = 5\n",
    "batch_size = 3\n",
    "client_victim = 1\n",
    "data = \"CIFAR10\"\n",
    "chosen_model = ''\n",
    "if data == \"CIFAR10\":\n",
    "    chosen_model = 'test'\n",
    "    channels = 3\n",
    "    norm = transforms.Normalize((0.5, 0.5, 0.5), (0.5, 0.5, 0.5))\n",
    "    hideen=768\n",
    "    img_shape = (channels, 32, 32)\n",
    "else:\n",
    "    chosen_model = 'test'\n",
    "    channels = 1\n",
    "    norm = transforms.Normalize((0.5), (0.5))\n",
    "    hideen=588\n",
    "    img_shape = (channels, 28, 28)\n",
    "criterion = nn.CrossEntropyLoss()"
   ]
  },
  {
   "cell_type": "code",
   "execution_count": 3,
   "metadata": {},
   "outputs": [
    {
     "name": "stdout",
     "output_type": "stream",
     "text": [
      "Files already downloaded and verified\n"
     ]
    }
   ],
   "source": [
    "#############################################################\n",
    "##### Creating desired data distribution among clients  #####\n",
    "#############################################################\n",
    "\n",
    "# Image augmentation \n",
    "transform_train = transforms.Compose([\n",
    "    # transforms.RandomCrop(32, padding=4),\n",
    "    # transforms.RandomHorizontalFlip(),\n",
    "    transforms.ToTensor(),\n",
    "    norm,\n",
    "])\n",
    "\n",
    "if data == \"CIFAR10\":\n",
    "    # Loading CIFAR10 using torchvision.datasets\n",
    "    traindata = datasets.CIFAR10('./data', train=True, download=True,\n",
    "                        transform= transform_train)\n",
    "else:\n",
    "    # Loading CIFAR10 using torchvision.datasets\n",
    "    traindata = datasets.MNIST('./data', train=True, download=True,\n",
    "                        transform= transform_train)\n",
    "\n",
    "# Dividing the training data into num_clients, with each client having equal number of images\n",
    "traindata_split = torch.utils.data.random_split(traindata, [int(traindata.data.shape[0] / num_clients) for _ in range(num_clients)])\n",
    "\n",
    "# Creating a pytorch loader for a Deep Learning model\n",
    "train_loader = [torch.utils.data.DataLoader(x, batch_size=batch_size, shuffle=True) for x in traindata_split]\n",
    "\n",
    "# Normalizing the test images\n",
    "transform_test = transforms.Compose([\n",
    "    transforms.ToTensor(),\n",
    "    norm,\n",
    "])\n",
    "\n",
    "if data == \"CIFAR10\":\n",
    "    # Loading the test iamges and thus converting them into a test_loader\n",
    "    test_loader = torch.utils.data.DataLoader(\n",
    "            datasets.CIFAR10('./data', train=False, transform=transform_test\n",
    "            ), batch_size=batch_size, shuffle=True)\n",
    "else:\n",
    "    # Loading the test iamges and thus converting them into a test_loader\n",
    "    test_loader = torch.utils.data.DataLoader(\n",
    "            datasets.MNIST('./data', train=False, transform=transform_test\n",
    "            ), batch_size=batch_size, shuffle=True)"
   ]
  },
  {
   "cell_type": "code",
   "execution_count": 4,
   "metadata": {},
   "outputs": [
    {
     "data": {
      "image/png": "[encoded data removed]",
      "text/plain": [
       "<Figure size 432x288 with 1 Axes>"
      ]
     },
     "metadata": {
      "needs_background": "light"
     },
     "output_type": "display_data"
    },
    {
     "name": "stdout",
     "output_type": "stream",
     "text": [
      "bird  horse ship \n"
     ]
    }
   ],
   "source": [
    "classes = ('plane', 'car', 'bird', 'cat',\n",
    "           'deer', 'dog', 'frog', 'horse', 'ship', 'truck')\n",
    "\n",
    "def imshow(img):\n",
    "    img = img / 2 + 0.5     # unnormalize\n",
    "    npimg = img.numpy()\n",
    "    plt.imshow(np.transpose(npimg, (1, 2, 0)))\n",
    "    plt.show()\n",
    "\n",
    "\n",
    "# get some random training images\n",
    "dataiter = iter(train_loader[0])\n",
    "images, labels = dataiter.next()\n",
    "\n",
    "# show images\n",
    "imshow(torchvision.utils.make_grid(images))\n",
    "# print labels\n",
    "print(' '.join(f'{classes[labels[j]]:5s}' for j in range(batch_size)))"
   ]
  },
  {
   "cell_type": "code",
   "execution_count": 5,
   "metadata": {},
   "outputs": [],
   "source": [
    "#################################\n",
    "##### Neural Network model #####\n",
    "#################################\n",
    "\n",
    "class VGG(nn.Module):\n",
    "    def __init__(self, channels=channels, hideen=hideen, num_classes=10):\n",
    "        super(VGG, self).__init__()\n",
    "        act = nn.Sigmoid\n",
    "        self.body = nn.Sequential(\n",
    "            nn.Conv2d(channels, 12, kernel_size=5, padding=5 // 2, stride=2),\n",
    "            nn.BatchNorm2d(12),\n",
    "            act(),\n",
    "            nn.Conv2d(12, 12, kernel_size=5, padding=5 // 2, stride=2),\n",
    "            nn.BatchNorm2d(12),\n",
    "            act(),\n",
    "            nn.Conv2d(12, 12, kernel_size=5, padding=5 // 2, stride=1),\n",
    "            nn.BatchNorm2d(12),\n",
    "            act(),\n",
    "        )\n",
    "        self.fc = nn.Sequential(\n",
    "            nn.Linear(hideen, num_classes)\n",
    "        )\n",
    "\n",
    "    def forward(self, x):\n",
    "        out = self.body(x)\n",
    "        out = out.view(out.size(0), -1)\n",
    "        out = self.fc(out)\n",
    "        return out"
   ]
  },
  {
   "cell_type": "code",
   "execution_count": 6,
   "metadata": {},
   "outputs": [],
   "source": [
    "\n",
    "def client_update(client_model, optimizer, train_loader, epoch=5):\n",
    "    \"\"\"\n",
    "    This function updates/trains client model on client data\n",
    "    \"\"\"\n",
    "    model.train()\n",
    "    for e in range(epoch):\n",
    "        for batch_idx, (data, target) in enumerate(train_loader):\n",
    "            # # show images\n",
    "            # imshow(torchvision.utils.make_grid(data))\n",
    "            # # print labels\n",
    "            # print(' '.join(f'{classes[target[j]]:5s}' for j in range(batch_size)))\n",
    "            \n",
    "            data, target = data.cuda(), target.cuda()\n",
    "            optimizer.zero_grad()\n",
    "            \n",
    "            output = client_model(data)\n",
    "            # loss = F.nll_loss(output, target)\n",
    "            loss = criterion(output, target)\n",
    "            loss.backward(retain_graph=True)\n",
    "            \n",
    "            received_gradients = torch.autograd.grad(loss, client_models[i].parameters())\n",
    "            received_gradients = [cg.detach() for cg in received_gradients]\n",
    "            \n",
    "            gradinversion = GradientInversion_Attack(client_model, img_shape, num_iteration=1000,\n",
    "                                    lr=1e2, log_interval=0,\n",
    "                                    optimizer_class=torch.optim.SGD,\n",
    "                                    distancename=\"l2\", optimize_label=False,\n",
    "                                    bn_reg_layers=[client_model.body[1], client_model.body[4], client_model.body[7]],\n",
    "                                    group_num = 5,\n",
    "                                    tv_reg_coef=0.00, l2_reg_coef=0.0001,\n",
    "                                    bn_reg_coef=0.001, gc_reg_coef=0.001, device=device)\n",
    "            \n",
    "            result = gradinversion.group_attack(received_gradients, batch_size=batch_size)\n",
    "\n",
    "            fig = plt.figure()\n",
    "            for bid in range(batch_size):\n",
    "                ax1 = fig.add_subplot(2, batch_size, bid+1)\n",
    "                ax1.imshow((sum(result[0]) / len(result[0])).cpu().detach().numpy()[bid][0], cmap=\"gray\")\n",
    "                ax1.axis(\"off\")\n",
    "                ax1.set_title(result[1][0][bid].item())\n",
    "\n",
    "            plt.suptitle(\"Result of GradInversion\")\n",
    "    \n",
    "            optimizer.step()\n",
    "    return loss, received_gradients"
   ]
  },
  {
   "cell_type": "code",
   "execution_count": 7,
   "metadata": {},
   "outputs": [],
   "source": [
    "def server_aggregate(global_model, client_models):\n",
    "    \"\"\"\n",
    "    This function has aggregation method 'mean'\n",
    "    \"\"\"\n",
    "    ### This will take simple mean of the weights of models ###\n",
    "    global_dict = global_model.state_dict()\n",
    "    for k in global_dict.keys():\n",
    "        global_dict[k] = torch.stack([client_models[i].state_dict()[k].float() for i in range(len(client_models))], 0).mean(0)\n",
    "    global_model.load_state_dict(global_dict)\n",
    "    for model in client_models:\n",
    "        model.load_state_dict(global_model.state_dict())"
   ]
  },
  {
   "cell_type": "code",
   "execution_count": 8,
   "metadata": {},
   "outputs": [],
   "source": [
    "def test(global_model, test_loader):\n",
    "    \"\"\"This function test the global model on test data and returns test loss and test accuracy \"\"\"\n",
    "    model.eval()\n",
    "    test_loss = 0\n",
    "    correct = 0\n",
    "    with torch.no_grad():\n",
    "        for data, target in test_loader:\n",
    "            data, target = data.cuda(), target.cuda()\n",
    "            output = global_model(data)\n",
    "            # test_loss += F.nll_loss(output, target).item() # sum up batch loss\n",
    "            test_loss += criterion(output, target).item()  # sum up batch loss\n",
    "            pred = output.argmax(dim=1, keepdim=True)  # get the index of the max log-probability\n",
    "            correct += pred.eq(target.view_as(pred)).sum().item()\n",
    "\n",
    "    test_loss /= len(test_loader.dataset)\n",
    "    acc = correct / len(test_loader.dataset)\n",
    "\n",
    "    return test_loss, acc"
   ]
  },
  {
   "cell_type": "code",
   "execution_count": 9,
   "metadata": {},
   "outputs": [],
   "source": [
    "############################################\n",
    "#### Initializing models and optimizer  ####\n",
    "############################################\n",
    "\n",
    "#### global model ##########\n",
    "global_model =  VGG().cuda()\n",
    "\n",
    "############## client models ##############\n",
    "client_models = [ VGG().cuda() for _ in range(num_selected)]\n",
    "for model in client_models:\n",
    "    model.load_state_dict(global_model.state_dict()) ### initial synchronizing with global model \n",
    "\n",
    "############### optimizers ################\n",
    "opt = [optim.SGD(model.parameters(), lr=0.1) for model in client_models]"
   ]
  },
  {
   "cell_type": "code",
   "execution_count": 10,
   "metadata": {},
   "outputs": [
    {
     "name": "stderr",
     "output_type": "stream",
     "text": [
      "  0%|          | 0/6 [01:55<?, ?it/s]\n"
     ]
    },
    {
     "ename": "RuntimeError",
     "evalue": "CUDA out of memory. Tried to allocate 2.00 MiB (GPU 0; 4.00 GiB total capacity; 3.49 GiB already allocated; 0 bytes free; 3.49 GiB reserved in total by PyTorch) If reserved memory is >> allocated memory try setting max_split_size_mb to avoid fragmentation.  See documentation for Memory Management and PYTORCH_CUDA_ALLOC_CONF",
     "output_type": "error",
     "traceback": [
      "\u001b[1;31m---------------------------------------------------------------------------\u001b[0m",
      "\u001b[1;31mRuntimeError\u001b[0m                              Traceback (most recent call last)",
      "\u001b[1;32md:\\Projects\\GANs\\GradientInversion\\federated_working.ipynb Cell 10'\u001b[0m in \u001b[0;36m<cell line: 11>\u001b[1;34m()\u001b[0m\n\u001b[0;32m     <a href='vscode-notebook-cell:/d%3A/Projects/GANs/GradientInversion/federated_working.ipynb#ch0000009?line=14'>15</a>\u001b[0m loss \u001b[39m=\u001b[39m \u001b[39m0\u001b[39m\n\u001b[0;32m     <a href='vscode-notebook-cell:/d%3A/Projects/GANs/GradientInversion/federated_working.ipynb#ch0000009?line=16'>17</a>\u001b[0m \u001b[39mfor\u001b[39;00m i \u001b[39min\u001b[39;00m tqdm(\u001b[39mrange\u001b[39m(num_selected)):\n\u001b[1;32m---> <a href='vscode-notebook-cell:/d%3A/Projects/GANs/GradientInversion/federated_working.ipynb#ch0000009?line=17'>18</a>\u001b[0m     client_loss, received_gradients \u001b[39m=\u001b[39m client_update(client_models[i], opt[i], train_loader[client_idx[i]], epoch\u001b[39m=\u001b[39;49mepochs)\n\u001b[0;32m     <a href='vscode-notebook-cell:/d%3A/Projects/GANs/GradientInversion/federated_working.ipynb#ch0000009?line=18'>19</a>\u001b[0m     loss \u001b[39m+\u001b[39m\u001b[39m=\u001b[39m client_loss\u001b[39m.\u001b[39mitem()\n\u001b[0;32m     <a href='vscode-notebook-cell:/d%3A/Projects/GANs/GradientInversion/federated_working.ipynb#ch0000009?line=19'>20</a>\u001b[0m     \u001b[39m# if client_idx[i] == 3:\u001b[39;00m\n\u001b[0;32m     <a href='vscode-notebook-cell:/d%3A/Projects/GANs/GradientInversion/federated_working.ipynb#ch0000009?line=20'>21</a>\u001b[0m         \u001b[39m# cpl_attacker = GradientInversion_Attack(client_models[i], img_shape, lr=10e2, log_interval=0,\u001b[39;00m\n\u001b[0;32m     <a href='vscode-notebook-cell:/d%3A/Projects/GANs/GradientInversion/federated_working.ipynb#ch0000009?line=21'>22</a>\u001b[0m         \u001b[39m#                     optimizer_class=torch.optim.SGD,\u001b[39;00m\n\u001b[1;32m   (...)\u001b[0m\n\u001b[0;32m     <a href='vscode-notebook-cell:/d%3A/Projects/GANs/GradientInversion/federated_working.ipynb#ch0000009?line=60'>61</a>\u001b[0m         \u001b[39m# plt.tight_layout()\u001b[39;00m\n\u001b[0;32m     <a href='vscode-notebook-cell:/d%3A/Projects/GANs/GradientInversion/federated_working.ipynb#ch0000009?line=61'>62</a>\u001b[0m         \u001b[39m# plt.show()\u001b[39;00m\n",
      "\u001b[1;32md:\\Projects\\GANs\\GradientInversion\\federated_working.ipynb Cell 6'\u001b[0m in \u001b[0;36mclient_update\u001b[1;34m(client_model, optimizer, train_loader, epoch)\u001b[0m\n\u001b[0;32m     <a href='vscode-notebook-cell:/d%3A/Projects/GANs/GradientInversion/federated_working.ipynb#ch0000005?line=21'>22</a>\u001b[0m received_gradients \u001b[39m=\u001b[39m [cg\u001b[39m.\u001b[39mdetach() \u001b[39mfor\u001b[39;00m cg \u001b[39min\u001b[39;00m received_gradients]\n\u001b[0;32m     <a href='vscode-notebook-cell:/d%3A/Projects/GANs/GradientInversion/federated_working.ipynb#ch0000005?line=23'>24</a>\u001b[0m gradinversion \u001b[39m=\u001b[39m GradientInversion_Attack(client_model, img_shape, num_iteration\u001b[39m=\u001b[39m\u001b[39m600\u001b[39m,\n\u001b[0;32m     <a href='vscode-notebook-cell:/d%3A/Projects/GANs/GradientInversion/federated_working.ipynb#ch0000005?line=24'>25</a>\u001b[0m                         lr\u001b[39m=\u001b[39m\u001b[39m1e2\u001b[39m, log_interval\u001b[39m=\u001b[39m\u001b[39m0\u001b[39m,\n\u001b[0;32m     <a href='vscode-notebook-cell:/d%3A/Projects/GANs/GradientInversion/federated_working.ipynb#ch0000005?line=25'>26</a>\u001b[0m                         optimizer_class\u001b[39m=\u001b[39mtorch\u001b[39m.\u001b[39moptim\u001b[39m.\u001b[39mSGD,\n\u001b[1;32m   (...)\u001b[0m\n\u001b[0;32m     <a href='vscode-notebook-cell:/d%3A/Projects/GANs/GradientInversion/federated_working.ipynb#ch0000005?line=29'>30</a>\u001b[0m                         tv_reg_coef\u001b[39m=\u001b[39m\u001b[39m0.00\u001b[39m, l2_reg_coef\u001b[39m=\u001b[39m\u001b[39m0.0001\u001b[39m,\n\u001b[0;32m     <a href='vscode-notebook-cell:/d%3A/Projects/GANs/GradientInversion/federated_working.ipynb#ch0000005?line=30'>31</a>\u001b[0m                         bn_reg_coef\u001b[39m=\u001b[39m\u001b[39m0.001\u001b[39m, gc_reg_coef\u001b[39m=\u001b[39m\u001b[39m0.001\u001b[39m, device\u001b[39m=\u001b[39mdevice)\n\u001b[1;32m---> <a href='vscode-notebook-cell:/d%3A/Projects/GANs/GradientInversion/federated_working.ipynb#ch0000005?line=32'>33</a>\u001b[0m result \u001b[39m=\u001b[39m gradinversion\u001b[39m.\u001b[39;49mgroup_attack(received_gradients, batch_size\u001b[39m=\u001b[39;49mbatch_size)\n\u001b[0;32m     <a href='vscode-notebook-cell:/d%3A/Projects/GANs/GradientInversion/federated_working.ipynb#ch0000005?line=34'>35</a>\u001b[0m fig \u001b[39m=\u001b[39m plt\u001b[39m.\u001b[39mfigure()\n\u001b[0;32m     <a href='vscode-notebook-cell:/d%3A/Projects/GANs/GradientInversion/federated_working.ipynb#ch0000005?line=35'>36</a>\u001b[0m \u001b[39mfor\u001b[39;00m bid \u001b[39min\u001b[39;00m \u001b[39mrange\u001b[39m(batch_size):\n",
      "File \u001b[1;32md:\\Projects\\GANs\\GradientInversion\\aijack\\attack\\inversion\\gradientinversion.py:528\u001b[0m, in \u001b[0;36mGradientInversion_Attack.group_attack\u001b[1;34m(self, received_gradients, batch_size)\u001b[0m\n\u001b[0;32m    <a href='file:///d%3A/Projects/GANs/GradientInversion/aijack/attack/inversion/gradientinversion.py?line=520'>521</a>\u001b[0m \u001b[39mself\u001b[39m\u001b[39m.\u001b[39mreset_seed(\u001b[39mself\u001b[39m\u001b[39m.\u001b[39mgroup_seed[worker_id])\n\u001b[0;32m    <a href='file:///d%3A/Projects/GANs/GradientInversion/aijack/attack/inversion/gradientinversion.py?line=521'>522</a>\u001b[0m closure \u001b[39m=\u001b[39m \u001b[39mself\u001b[39m\u001b[39m.\u001b[39m_setup_closure(\n\u001b[0;32m    <a href='file:///d%3A/Projects/GANs/GradientInversion/aijack/attack/inversion/gradientinversion.py?line=522'>523</a>\u001b[0m     group_optimizer[worker_id],\n\u001b[0;32m    <a href='file:///d%3A/Projects/GANs/GradientInversion/aijack/attack/inversion/gradientinversion.py?line=523'>524</a>\u001b[0m     group_fake_x[worker_id],\n\u001b[0;32m    <a href='file:///d%3A/Projects/GANs/GradientInversion/aijack/attack/inversion/gradientinversion.py?line=524'>525</a>\u001b[0m     group_fake_label[worker_id],\n\u001b[0;32m    <a href='file:///d%3A/Projects/GANs/GradientInversion/aijack/attack/inversion/gradientinversion.py?line=525'>526</a>\u001b[0m     received_gradients,\n\u001b[0;32m    <a href='file:///d%3A/Projects/GANs/GradientInversion/aijack/attack/inversion/gradientinversion.py?line=526'>527</a>\u001b[0m )\n\u001b[1;32m--> <a href='file:///d%3A/Projects/GANs/GradientInversion/aijack/attack/inversion/gradientinversion.py?line=527'>528</a>\u001b[0m distance \u001b[39m=\u001b[39m group_optimizer[worker_id]\u001b[39m.\u001b[39;49mstep(closure)\n\u001b[0;32m    <a href='file:///d%3A/Projects/GANs/GradientInversion/aijack/attack/inversion/gradientinversion.py?line=529'>530</a>\u001b[0m \u001b[39mif\u001b[39;00m \u001b[39mself\u001b[39m\u001b[39m.\u001b[39msave_loss:\n\u001b[0;32m    <a href='file:///d%3A/Projects/GANs/GradientInversion/aijack/attack/inversion/gradientinversion.py?line=530'>531</a>\u001b[0m     \u001b[39mself\u001b[39m\u001b[39m.\u001b[39mlog_loss[worker_id]\u001b[39m.\u001b[39mappend(distance)\n",
      "File \u001b[1;32md:\\Projects\\GANs\\.venv\\lib\\site-packages\\torch\\optim\\optimizer.py:88\u001b[0m, in \u001b[0;36mOptimizer._hook_for_profile.<locals>.profile_hook_step.<locals>.wrapper\u001b[1;34m(*args, **kwargs)\u001b[0m\n\u001b[0;32m     <a href='file:///d%3A/Projects/GANs/.venv/lib/site-packages/torch/optim/optimizer.py?line=85'>86</a>\u001b[0m profile_name \u001b[39m=\u001b[39m \u001b[39m\"\u001b[39m\u001b[39mOptimizer.step#\u001b[39m\u001b[39m{}\u001b[39;00m\u001b[39m.step\u001b[39m\u001b[39m\"\u001b[39m\u001b[39m.\u001b[39mformat(obj\u001b[39m.\u001b[39m\u001b[39m__class__\u001b[39m\u001b[39m.\u001b[39m\u001b[39m__name__\u001b[39m)\n\u001b[0;32m     <a href='file:///d%3A/Projects/GANs/.venv/lib/site-packages/torch/optim/optimizer.py?line=86'>87</a>\u001b[0m \u001b[39mwith\u001b[39;00m torch\u001b[39m.\u001b[39mautograd\u001b[39m.\u001b[39mprofiler\u001b[39m.\u001b[39mrecord_function(profile_name):\n\u001b[1;32m---> <a href='file:///d%3A/Projects/GANs/.venv/lib/site-packages/torch/optim/optimizer.py?line=87'>88</a>\u001b[0m     \u001b[39mreturn\u001b[39;00m func(\u001b[39m*\u001b[39;49margs, \u001b[39m*\u001b[39;49m\u001b[39m*\u001b[39;49mkwargs)\n",
      "File \u001b[1;32md:\\Projects\\GANs\\.venv\\lib\\site-packages\\torch\\autograd\\grad_mode.py:27\u001b[0m, in \u001b[0;36m_DecoratorContextManager.__call__.<locals>.decorate_context\u001b[1;34m(*args, **kwargs)\u001b[0m\n\u001b[0;32m     <a href='file:///d%3A/Projects/GANs/.venv/lib/site-packages/torch/autograd/grad_mode.py?line=23'>24</a>\u001b[0m \u001b[39m@functools\u001b[39m\u001b[39m.\u001b[39mwraps(func)\n\u001b[0;32m     <a href='file:///d%3A/Projects/GANs/.venv/lib/site-packages/torch/autograd/grad_mode.py?line=24'>25</a>\u001b[0m \u001b[39mdef\u001b[39;00m \u001b[39mdecorate_context\u001b[39m(\u001b[39m*\u001b[39margs, \u001b[39m*\u001b[39m\u001b[39m*\u001b[39mkwargs):\n\u001b[0;32m     <a href='file:///d%3A/Projects/GANs/.venv/lib/site-packages/torch/autograd/grad_mode.py?line=25'>26</a>\u001b[0m     \u001b[39mwith\u001b[39;00m \u001b[39mself\u001b[39m\u001b[39m.\u001b[39mclone():\n\u001b[1;32m---> <a href='file:///d%3A/Projects/GANs/.venv/lib/site-packages/torch/autograd/grad_mode.py?line=26'>27</a>\u001b[0m         \u001b[39mreturn\u001b[39;00m func(\u001b[39m*\u001b[39;49margs, \u001b[39m*\u001b[39;49m\u001b[39m*\u001b[39;49mkwargs)\n",
      "File \u001b[1;32md:\\Projects\\GANs\\.venv\\lib\\site-packages\\torch\\optim\\sgd.py:120\u001b[0m, in \u001b[0;36mSGD.step\u001b[1;34m(self, closure)\u001b[0m\n\u001b[0;32m    <a href='file:///d%3A/Projects/GANs/.venv/lib/site-packages/torch/optim/sgd.py?line=117'>118</a>\u001b[0m \u001b[39mif\u001b[39;00m closure \u001b[39mis\u001b[39;00m \u001b[39mnot\u001b[39;00m \u001b[39mNone\u001b[39;00m:\n\u001b[0;32m    <a href='file:///d%3A/Projects/GANs/.venv/lib/site-packages/torch/optim/sgd.py?line=118'>119</a>\u001b[0m     \u001b[39mwith\u001b[39;00m torch\u001b[39m.\u001b[39menable_grad():\n\u001b[1;32m--> <a href='file:///d%3A/Projects/GANs/.venv/lib/site-packages/torch/optim/sgd.py?line=119'>120</a>\u001b[0m         loss \u001b[39m=\u001b[39m closure()\n\u001b[0;32m    <a href='file:///d%3A/Projects/GANs/.venv/lib/site-packages/torch/optim/sgd.py?line=121'>122</a>\u001b[0m \u001b[39mfor\u001b[39;00m group \u001b[39min\u001b[39;00m \u001b[39mself\u001b[39m\u001b[39m.\u001b[39mparam_groups:\n\u001b[0;32m    <a href='file:///d%3A/Projects/GANs/.venv/lib/site-packages/torch/optim/sgd.py?line=122'>123</a>\u001b[0m     params_with_grad \u001b[39m=\u001b[39m []\n",
      "File \u001b[1;32md:\\Projects\\GANs\\GradientInversion\\aijack\\attack\\inversion\\gradientinversion.py:371\u001b[0m, in \u001b[0;36mGradientInversion_Attack._setup_closure.<locals>.closure\u001b[1;34m()\u001b[0m\n\u001b[0;32m    <a href='file:///d%3A/Projects/GANs/GradientInversion/aijack/attack/inversion/gradientinversion.py?line=359'>360</a>\u001b[0m distance \u001b[39m=\u001b[39m \u001b[39mself\u001b[39m\u001b[39m.\u001b[39mdistancefunc(\n\u001b[0;32m    <a href='file:///d%3A/Projects/GANs/GradientInversion/aijack/attack/inversion/gradientinversion.py?line=360'>361</a>\u001b[0m     fake_gradients, received_gradients, \u001b[39mself\u001b[39m\u001b[39m.\u001b[39mgradient_ignore_pos\n\u001b[0;32m    <a href='file:///d%3A/Projects/GANs/GradientInversion/aijack/attack/inversion/gradientinversion.py?line=361'>362</a>\u001b[0m )\n\u001b[0;32m    <a href='file:///d%3A/Projects/GANs/GradientInversion/aijack/attack/inversion/gradientinversion.py?line=362'>363</a>\u001b[0m distance \u001b[39m+\u001b[39m\u001b[39m=\u001b[39m \u001b[39mself\u001b[39m\u001b[39m.\u001b[39m_culc_regularization_term(\n\u001b[0;32m    <a href='file:///d%3A/Projects/GANs/GradientInversion/aijack/attack/inversion/gradientinversion.py?line=363'>364</a>\u001b[0m     fake_x,\n\u001b[0;32m    <a href='file:///d%3A/Projects/GANs/GradientInversion/aijack/attack/inversion/gradientinversion.py?line=364'>365</a>\u001b[0m     fake_pred,\n\u001b[1;32m   (...)\u001b[0m\n\u001b[0;32m    <a href='file:///d%3A/Projects/GANs/GradientInversion/aijack/attack/inversion/gradientinversion.py?line=367'>368</a>\u001b[0m     received_gradients,\n\u001b[0;32m    <a href='file:///d%3A/Projects/GANs/GradientInversion/aijack/attack/inversion/gradientinversion.py?line=368'>369</a>\u001b[0m )\n\u001b[1;32m--> <a href='file:///d%3A/Projects/GANs/GradientInversion/aijack/attack/inversion/gradientinversion.py?line=370'>371</a>\u001b[0m distance\u001b[39m.\u001b[39;49mbackward(retain_graph\u001b[39m=\u001b[39;49m\u001b[39mTrue\u001b[39;49;00m)\n\u001b[0;32m    <a href='file:///d%3A/Projects/GANs/GradientInversion/aijack/attack/inversion/gradientinversion.py?line=371'>372</a>\u001b[0m \u001b[39mreturn\u001b[39;00m distance\n",
      "File \u001b[1;32md:\\Projects\\GANs\\.venv\\lib\\site-packages\\torch\\_tensor.py:363\u001b[0m, in \u001b[0;36mTensor.backward\u001b[1;34m(self, gradient, retain_graph, create_graph, inputs)\u001b[0m\n\u001b[0;32m    <a href='file:///d%3A/Projects/GANs/.venv/lib/site-packages/torch/_tensor.py?line=353'>354</a>\u001b[0m \u001b[39mif\u001b[39;00m has_torch_function_unary(\u001b[39mself\u001b[39m):\n\u001b[0;32m    <a href='file:///d%3A/Projects/GANs/.venv/lib/site-packages/torch/_tensor.py?line=354'>355</a>\u001b[0m     \u001b[39mreturn\u001b[39;00m handle_torch_function(\n\u001b[0;32m    <a href='file:///d%3A/Projects/GANs/.venv/lib/site-packages/torch/_tensor.py?line=355'>356</a>\u001b[0m         Tensor\u001b[39m.\u001b[39mbackward,\n\u001b[0;32m    <a href='file:///d%3A/Projects/GANs/.venv/lib/site-packages/torch/_tensor.py?line=356'>357</a>\u001b[0m         (\u001b[39mself\u001b[39m,),\n\u001b[1;32m   (...)\u001b[0m\n\u001b[0;32m    <a href='file:///d%3A/Projects/GANs/.venv/lib/site-packages/torch/_tensor.py?line=360'>361</a>\u001b[0m         create_graph\u001b[39m=\u001b[39mcreate_graph,\n\u001b[0;32m    <a href='file:///d%3A/Projects/GANs/.venv/lib/site-packages/torch/_tensor.py?line=361'>362</a>\u001b[0m         inputs\u001b[39m=\u001b[39minputs)\n\u001b[1;32m--> <a href='file:///d%3A/Projects/GANs/.venv/lib/site-packages/torch/_tensor.py?line=362'>363</a>\u001b[0m torch\u001b[39m.\u001b[39;49mautograd\u001b[39m.\u001b[39;49mbackward(\u001b[39mself\u001b[39;49m, gradient, retain_graph, create_graph, inputs\u001b[39m=\u001b[39;49minputs)\n",
      "File \u001b[1;32md:\\Projects\\GANs\\.venv\\lib\\site-packages\\torch\\autograd\\__init__.py:173\u001b[0m, in \u001b[0;36mbackward\u001b[1;34m(tensors, grad_tensors, retain_graph, create_graph, grad_variables, inputs)\u001b[0m\n\u001b[0;32m    <a href='file:///d%3A/Projects/GANs/.venv/lib/site-packages/torch/autograd/__init__.py?line=167'>168</a>\u001b[0m     retain_graph \u001b[39m=\u001b[39m create_graph\n\u001b[0;32m    <a href='file:///d%3A/Projects/GANs/.venv/lib/site-packages/torch/autograd/__init__.py?line=169'>170</a>\u001b[0m \u001b[39m# The reason we repeat same the comment below is that\u001b[39;00m\n\u001b[0;32m    <a href='file:///d%3A/Projects/GANs/.venv/lib/site-packages/torch/autograd/__init__.py?line=170'>171</a>\u001b[0m \u001b[39m# some Python versions print out the first line of a multi-line function\u001b[39;00m\n\u001b[0;32m    <a href='file:///d%3A/Projects/GANs/.venv/lib/site-packages/torch/autograd/__init__.py?line=171'>172</a>\u001b[0m \u001b[39m# calls in the traceback and some print out the last line\u001b[39;00m\n\u001b[1;32m--> <a href='file:///d%3A/Projects/GANs/.venv/lib/site-packages/torch/autograd/__init__.py?line=172'>173</a>\u001b[0m Variable\u001b[39m.\u001b[39;49m_execution_engine\u001b[39m.\u001b[39;49mrun_backward(  \u001b[39m# Calls into the C++ engine to run the backward pass\u001b[39;49;00m\n\u001b[0;32m    <a href='file:///d%3A/Projects/GANs/.venv/lib/site-packages/torch/autograd/__init__.py?line=173'>174</a>\u001b[0m     tensors, grad_tensors_, retain_graph, create_graph, inputs,\n\u001b[0;32m    <a href='file:///d%3A/Projects/GANs/.venv/lib/site-packages/torch/autograd/__init__.py?line=174'>175</a>\u001b[0m     allow_unreachable\u001b[39m=\u001b[39;49m\u001b[39mTrue\u001b[39;49;00m, accumulate_grad\u001b[39m=\u001b[39;49m\u001b[39mTrue\u001b[39;49;00m)\n",
      "\u001b[1;31mRuntimeError\u001b[0m: CUDA out of memory. Tried to allocate 2.00 MiB (GPU 0; 4.00 GiB total capacity; 3.49 GiB already allocated; 0 bytes free; 3.49 GiB reserved in total by PyTorch) If reserved memory is >> allocated memory try setting max_split_size_mb to avoid fragmentation.  See documentation for Memory Management and PYTORCH_CUDA_ALLOC_CONF"
     ]
    },
    {
     "data": {
      "image/png": "[encoded data removed]",
      "text/plain": [
       "<Figure size 432x288 with 3 Axes>"
      ]
     },
     "metadata": {
      "needs_background": "light"
     },
     "output_type": "display_data"
    },
    {
     "data": {
      "image/png": "[encoded data removed]",
      "text/plain": [
       "<Figure size 432x288 with 3 Axes>"
      ]
     },
     "metadata": {
      "needs_background": "light"
     },
     "output_type": "display_data"
    },
    {
     "data": {
      "image/png": "[encoded data removed]",
      "text/plain": [
       "<Figure size 432x288 with 3 Axes>"
      ]
     },
     "metadata": {
      "needs_background": "light"
     },
     "output_type": "display_data"
    }
   ],
   "source": [
    "device = torch.device(\"cuda:0\") if torch.cuda.is_available() else \"cpu\"\n",
    "\n",
    "###### List containing info about learning #########\n",
    "losses_train = []\n",
    "losses_test = []\n",
    "acc_train = []\n",
    "acc_test = []\n",
    "# Runnining FL\n",
    "\n",
    "victim_count = 0 \n",
    "for r in range(num_rounds):\n",
    "    # select random clients\n",
    "    client_idx = np.random.permutation(num_clients)[:num_selected]\n",
    "    # client update\n",
    "    loss = 0\n",
    "    \n",
    "    for i in tqdm(range(num_selected)):\n",
    "        client_loss, received_gradients = client_update(client_models[i], opt[i], train_loader[client_idx[i]], epoch=epochs)\n",
    "        loss += client_loss.item()\n",
    "        # if client_idx[i] == 3:\n",
    "            # cpl_attacker = GradientInversion_Attack(client_models[i], img_shape, lr=10e2, log_interval=0,\n",
    "            #                     optimizer_class=torch.optim.SGD,\n",
    "            #                     distancename=\"l2\", optimize_label=False,\n",
    "            #                     num_iteration=1000,\n",
    "            #                     lm_reg_coef=0.01, device=device)\n",
    "            \n",
    "            # gradinversion = GradientInversion_Attack(client_models[i], img_shape, num_iteration=550,\n",
    "            #                         lr=1e2, log_interval=0,\n",
    "            #                         optimizer_class=torch.optim.SGD,\n",
    "            #                         distancename=\"l2\", optimize_label=False,\n",
    "            #                         bn_reg_layers=[client_models[i].body[1], client_models[i].body[4], client_models[i].body[7]],\n",
    "            #                         group_num = 5,\n",
    "            #                         tv_reg_coef=0.00, l2_reg_coef=0.0001,\n",
    "            #                         bn_reg_coef=0.001, gc_reg_coef=0.001, device=device)\n",
    "            \n",
    "            # result = gradinversion.group_attack(received_gradients, batch_size=batch_size)\n",
    "\n",
    "            # fig = plt.figure()\n",
    "            # for bid in range(batch_size):\n",
    "            #     ax1 = fig.add_subplot(2, batch_size, bid+1)\n",
    "            #     ax1.imshow((sum(result[0]) / len(result[0])).cpu().detach().numpy()[bid][0], cmap=\"gray\")\n",
    "            #     ax1.axis(\"off\")\n",
    "            #     ax1.set_title(result[1][0][bid].item())\n",
    "\n",
    "            # plt.suptitle(\"Result of GradInversion\")\n",
    "            \n",
    "            # num_seeds=5\n",
    "            # fig = plt.figure()\n",
    "            # for s in tqdm(range(num_seeds)):\n",
    "            #     cpl_attacker.reset_seed(s)\n",
    "            #     result = cpl_attacker.attack(received_gradients)\n",
    "                \n",
    "            #     ax1 = fig.add_subplot(2, num_seeds, s+1)\n",
    "            #     # show images\n",
    "            #     ax1.imshow(result[0].cpu().detach().numpy()[0][0])                 \n",
    "            #     ax1.axis(\"off\")\n",
    "            #     # print labels\n",
    "            #     ax1.set_title(classes[result[1].item()])    \n",
    "                \n",
    "            # plt.suptitle(\"Result of CPL\")\n",
    "            # plt.tight_layout()\n",
    "            # plt.show()\n",
    "    \n",
    "    losses_train.append(loss)\n",
    "    # server aggregate\n",
    "    server_aggregate(global_model, client_models)\n",
    "    \n",
    "    test_loss, acc = test(global_model, test_loader)\n",
    "    losses_test.append(test_loss)\n",
    "    acc_test.append(acc)\n",
    "    print('%d-th round' % r)\n",
    "    print('average train loss %0.3g | test loss %0.3g | test acc: %0.3f' % (loss / num_selected, test_loss, acc))\n"
   ]
  },
  {
   "cell_type": "code",
   "execution_count": null,
   "metadata": {},
   "outputs": [],
   "source": []
  }
 ],
 "metadata": {
  "interpreter": {
   "hash": "9b47d17eacc85b0dba78298246976f3c51e3c22c8381a7a1fa9aa75ebd62d2be"
  },
  "kernelspec": {
   "display_name": "Python 3.7.9 ('.venv': venv)",
   "language": "python",
   "name": "python3"
  },
  "language_info": {
   "codemirror_mode": {
    "name": "ipython",
    "version": 3
   },
   "file_extension": ".py",
   "mimetype": "text/x-python",
   "name": "python",
   "nbconvert_exporter": "python",
   "pygments_lexer": "ipython3",
   "version": "3.8.10"
  },
  "orig_nbformat": 4
 },
 "nbformat": 4,
 "nbformat_minor": 2
}
